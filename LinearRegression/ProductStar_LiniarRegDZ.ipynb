{
 "cells": [
  {
   "cell_type": "code",
   "execution_count": 1,
   "metadata": {},
   "outputs": [],
   "source": [
    "import numpy as np\n",
    "import pandas as pd \n",
    "import sklearn\n",
    "from sklearn.metrics import mean_squared_log_error\n",
    "from sklearn.preprocessing import MinMaxScaler, StandardScaler\n",
    "import sklearn.linear_model as lm"
   ]
  },
  {
   "cell_type": "code",
   "execution_count": 2,
   "metadata": {},
   "outputs": [],
   "source": [
    "df = pd.read_csv('./train.csv')\n",
    "df.fillna(0, inplace=True)\n",
    "columns = ['price_doc', 'timestamp', 'full_sq', 'life_sq',\n",
    "'floor', 'max_floor', 'material', 'build_year',\n",
    " 'num_room', 'kitch_sq', 'state', 'product_type', 'sub_area']\n",
    "\n",
    "df = df[columns]\n",
    "df = df._get_numeric_data()"
   ]
  },
  {
   "cell_type": "code",
   "execution_count": 3,
   "metadata": {},
   "outputs": [],
   "source": [
    "df_test = df.sample(n=1000, random_state=0)\n",
    "df_train = df.drop(index=df_test.index)\n",
    "\n",
    "df_test = df_test.reset_index(drop=True)\n",
    "df_train = df_train.reset_index(drop=True)"
   ]
  },
  {
   "cell_type": "code",
   "execution_count": 4,
   "metadata": {},
   "outputs": [],
   "source": [
    "X_train = df_train[df_train.columns[1:]]\n",
    "y_train = df_train['price_doc']\n",
    "\n",
    "X_test = df_test[df_test.columns[1:]]\n",
    "y_test = df_test['price_doc']"
   ]
  },
  {
   "cell_type": "code",
   "execution_count": 5,
   "metadata": {},
   "outputs": [],
   "source": [
    "predictions = np.array([y_train.median()]*1000)"
   ]
  },
  {
   "cell_type": "code",
   "execution_count": 6,
   "metadata": {},
   "outputs": [
    {
     "name": "stdout",
     "output_type": "stream",
     "text": [
      "RMSLE все значения медиана:0.6043387231257158\n"
     ]
    }
   ],
   "source": [
    "baseline = np.sqrt(mean_squared_log_error(y_test, predictions))\n",
    "baseline\n",
    "print(f\"RMSLE все значения медиана:{baseline}\")"
   ]
  },
  {
   "cell_type": "code",
   "execution_count": 7,
   "metadata": {},
   "outputs": [],
   "source": [
    "\n",
    "min_max = MinMaxScaler() \n",
    "min_max.fit(X_train)\n",
    "X_train_min_max = min_max.transform(X_train)\n",
    "X_test_min_max = min_max.transform(X_test)\n",
    "\n",
    "\n",
    "standard = StandardScaler()\n",
    "standard.fit(X_train)\n",
    "X_train_standard = standard.transform(X_train)\n",
    "X_test_standard = standard.transform(X_test)"
   ]
  },
  {
   "cell_type": "code",
   "execution_count": 8,
   "metadata": {},
   "outputs": [],
   "source": [
    "linear_regression = lm.LinearRegression().fit(X=X_train_min_max, y=y_train)"
   ]
  },
  {
   "cell_type": "code",
   "execution_count": 9,
   "metadata": {},
   "outputs": [],
   "source": [
    "#Предсказывает ,нахоидт метрику .\n",
    "def calculate_metric(X_train, X_test, y_train, y_test, model):\n",
    "\n",
    "    predictions_test = model.predict(X_test)\n",
    "    predictions_train = model.predict(X_train)\n",
    "    \n",
    "    if (predictions_test < 0).any() or (predictions_train < 0).any(): \n",
    "        predictions_test[np.where(predictions_test < 0)] = 0\n",
    "        predictions_train[np.where(predictions_train < 0)] = 0\n",
    "    \n",
    "\n",
    "    metric_test = np.sqrt(mean_squared_log_error( y_test, predictions_test))\n",
    "    metric_train = np.sqrt(mean_squared_log_error( y_train, predictions_train))\n",
    "\n",
    "    delta_baseline = baseline - metric_test\n",
    "    return metric_test, metric_train"
   ]
  },
  {
   "cell_type": "code",
   "execution_count": 10,
   "metadata": {},
   "outputs": [
    {
     "data": {
      "text/plain": [
       "(np.float64(0.5588000012725938), np.float64(0.5571633028324698))"
      ]
     },
     "execution_count": 10,
     "metadata": {},
     "output_type": "execute_result"
    }
   ],
   "source": [
    "calculate_metric(X_train=X_train_min_max, X_test=X_test_min_max, y_train=y_train, y_test=y_test, model=linear_regression)"
   ]
  },
  {
   "cell_type": "code",
   "execution_count": 11,
   "metadata": {},
   "outputs": [],
   "source": [
    "linear_regression2 = lm.LinearRegression().fit(X=X_train_standard, y=y_train)\n",
    "metric_test, metric_train = calculate_metric(X_train=X_train_standard, X_test=X_test_standard, y_train=y_train, y_test=y_test, model=linear_regression2)"
   ]
  },
  {
   "cell_type": "code",
   "execution_count": 12,
   "metadata": {},
   "outputs": [
    {
     "name": "stdout",
     "output_type": "stream",
     "text": [
      "Предсказания для исходных данных: [4956519.02066523 4473126.30577024 4734368.56425187 7240611.36643911\n",
      " 6517931.6044505 ]\n",
      "Предсказания для стандартизированных данных: [4956519.02066521 4473126.3057702  4734368.56425185 7240611.36643917\n",
      " 6517931.60445054]\n"
     ]
    }
   ],
   "source": [
    "print(\"Предсказания для исходных данных:\", linear_regression.predict(X_train_min_max[:5]))\n",
    "print(\"Предсказания для стандартизированных данных:\", linear_regression2.predict(X_train_standard[:5]))\n",
    "#Почему то они одинаковые"
   ]
  },
  {
   "cell_type": "code",
   "execution_count": 13,
   "metadata": {},
   "outputs": [],
   "source": [
    "for c in df.columns[1:]:\n",
    "    df[c+'_2'] = df[c]*df[c]\n",
    "    df[c+'_3'] = df[c+'_2']*df[c]\n",
    "    df[c+'_4'] = df[c+'_3']*df[c]"
   ]
  },
  {
   "cell_type": "code",
   "execution_count": 14,
   "metadata": {},
   "outputs": [
    {
     "data": {
      "text/html": [
       "<div>\n",
       "<style scoped>\n",
       "    .dataframe tbody tr th:only-of-type {\n",
       "        vertical-align: middle;\n",
       "    }\n",
       "\n",
       "    .dataframe tbody tr th {\n",
       "        vertical-align: top;\n",
       "    }\n",
       "\n",
       "    .dataframe thead th {\n",
       "        text-align: right;\n",
       "    }\n",
       "</style>\n",
       "<table border=\"1\" class=\"dataframe\">\n",
       "  <thead>\n",
       "    <tr style=\"text-align: right;\">\n",
       "      <th></th>\n",
       "      <th>price_doc</th>\n",
       "      <th>full_sq</th>\n",
       "      <th>life_sq</th>\n",
       "      <th>floor</th>\n",
       "      <th>max_floor</th>\n",
       "      <th>material</th>\n",
       "      <th>build_year</th>\n",
       "      <th>num_room</th>\n",
       "      <th>kitch_sq</th>\n",
       "      <th>state</th>\n",
       "      <th>...</th>\n",
       "      <th>build_year_4</th>\n",
       "      <th>num_room_2</th>\n",
       "      <th>num_room_3</th>\n",
       "      <th>num_room_4</th>\n",
       "      <th>kitch_sq_2</th>\n",
       "      <th>kitch_sq_3</th>\n",
       "      <th>kitch_sq_4</th>\n",
       "      <th>state_2</th>\n",
       "      <th>state_3</th>\n",
       "      <th>state_4</th>\n",
       "    </tr>\n",
       "  </thead>\n",
       "  <tbody>\n",
       "    <tr>\n",
       "      <th>0</th>\n",
       "      <td>5850000</td>\n",
       "      <td>43</td>\n",
       "      <td>27.0</td>\n",
       "      <td>4.0</td>\n",
       "      <td>0.0</td>\n",
       "      <td>0.0</td>\n",
       "      <td>0.0</td>\n",
       "      <td>0.0</td>\n",
       "      <td>0.0</td>\n",
       "      <td>0.0</td>\n",
       "      <td>...</td>\n",
       "      <td>0.000000e+00</td>\n",
       "      <td>0.0</td>\n",
       "      <td>0.0</td>\n",
       "      <td>0.0</td>\n",
       "      <td>0.0</td>\n",
       "      <td>0.0</td>\n",
       "      <td>0.0</td>\n",
       "      <td>0.0</td>\n",
       "      <td>0.0</td>\n",
       "      <td>0.0</td>\n",
       "    </tr>\n",
       "    <tr>\n",
       "      <th>1</th>\n",
       "      <td>6000000</td>\n",
       "      <td>34</td>\n",
       "      <td>19.0</td>\n",
       "      <td>3.0</td>\n",
       "      <td>0.0</td>\n",
       "      <td>0.0</td>\n",
       "      <td>0.0</td>\n",
       "      <td>0.0</td>\n",
       "      <td>0.0</td>\n",
       "      <td>0.0</td>\n",
       "      <td>...</td>\n",
       "      <td>0.000000e+00</td>\n",
       "      <td>0.0</td>\n",
       "      <td>0.0</td>\n",
       "      <td>0.0</td>\n",
       "      <td>0.0</td>\n",
       "      <td>0.0</td>\n",
       "      <td>0.0</td>\n",
       "      <td>0.0</td>\n",
       "      <td>0.0</td>\n",
       "      <td>0.0</td>\n",
       "    </tr>\n",
       "    <tr>\n",
       "      <th>2</th>\n",
       "      <td>5700000</td>\n",
       "      <td>43</td>\n",
       "      <td>29.0</td>\n",
       "      <td>2.0</td>\n",
       "      <td>0.0</td>\n",
       "      <td>0.0</td>\n",
       "      <td>0.0</td>\n",
       "      <td>0.0</td>\n",
       "      <td>0.0</td>\n",
       "      <td>0.0</td>\n",
       "      <td>...</td>\n",
       "      <td>0.000000e+00</td>\n",
       "      <td>0.0</td>\n",
       "      <td>0.0</td>\n",
       "      <td>0.0</td>\n",
       "      <td>0.0</td>\n",
       "      <td>0.0</td>\n",
       "      <td>0.0</td>\n",
       "      <td>0.0</td>\n",
       "      <td>0.0</td>\n",
       "      <td>0.0</td>\n",
       "    </tr>\n",
       "    <tr>\n",
       "      <th>3</th>\n",
       "      <td>13100000</td>\n",
       "      <td>89</td>\n",
       "      <td>50.0</td>\n",
       "      <td>9.0</td>\n",
       "      <td>0.0</td>\n",
       "      <td>0.0</td>\n",
       "      <td>0.0</td>\n",
       "      <td>0.0</td>\n",
       "      <td>0.0</td>\n",
       "      <td>0.0</td>\n",
       "      <td>...</td>\n",
       "      <td>0.000000e+00</td>\n",
       "      <td>0.0</td>\n",
       "      <td>0.0</td>\n",
       "      <td>0.0</td>\n",
       "      <td>0.0</td>\n",
       "      <td>0.0</td>\n",
       "      <td>0.0</td>\n",
       "      <td>0.0</td>\n",
       "      <td>0.0</td>\n",
       "      <td>0.0</td>\n",
       "    </tr>\n",
       "    <tr>\n",
       "      <th>4</th>\n",
       "      <td>16331452</td>\n",
       "      <td>77</td>\n",
       "      <td>77.0</td>\n",
       "      <td>4.0</td>\n",
       "      <td>0.0</td>\n",
       "      <td>0.0</td>\n",
       "      <td>0.0</td>\n",
       "      <td>0.0</td>\n",
       "      <td>0.0</td>\n",
       "      <td>0.0</td>\n",
       "      <td>...</td>\n",
       "      <td>0.000000e+00</td>\n",
       "      <td>0.0</td>\n",
       "      <td>0.0</td>\n",
       "      <td>0.0</td>\n",
       "      <td>0.0</td>\n",
       "      <td>0.0</td>\n",
       "      <td>0.0</td>\n",
       "      <td>0.0</td>\n",
       "      <td>0.0</td>\n",
       "      <td>0.0</td>\n",
       "    </tr>\n",
       "    <tr>\n",
       "      <th>...</th>\n",
       "      <td>...</td>\n",
       "      <td>...</td>\n",
       "      <td>...</td>\n",
       "      <td>...</td>\n",
       "      <td>...</td>\n",
       "      <td>...</td>\n",
       "      <td>...</td>\n",
       "      <td>...</td>\n",
       "      <td>...</td>\n",
       "      <td>...</td>\n",
       "      <td>...</td>\n",
       "      <td>...</td>\n",
       "      <td>...</td>\n",
       "      <td>...</td>\n",
       "      <td>...</td>\n",
       "      <td>...</td>\n",
       "      <td>...</td>\n",
       "      <td>...</td>\n",
       "      <td>...</td>\n",
       "      <td>...</td>\n",
       "      <td>...</td>\n",
       "    </tr>\n",
       "    <tr>\n",
       "      <th>30466</th>\n",
       "      <td>7400000</td>\n",
       "      <td>44</td>\n",
       "      <td>27.0</td>\n",
       "      <td>7.0</td>\n",
       "      <td>9.0</td>\n",
       "      <td>1.0</td>\n",
       "      <td>1975.0</td>\n",
       "      <td>2.0</td>\n",
       "      <td>6.0</td>\n",
       "      <td>3.0</td>\n",
       "      <td>...</td>\n",
       "      <td>1.521488e+13</td>\n",
       "      <td>4.0</td>\n",
       "      <td>8.0</td>\n",
       "      <td>16.0</td>\n",
       "      <td>36.0</td>\n",
       "      <td>216.0</td>\n",
       "      <td>1296.0</td>\n",
       "      <td>9.0</td>\n",
       "      <td>27.0</td>\n",
       "      <td>81.0</td>\n",
       "    </tr>\n",
       "    <tr>\n",
       "      <th>30467</th>\n",
       "      <td>25000000</td>\n",
       "      <td>86</td>\n",
       "      <td>59.0</td>\n",
       "      <td>3.0</td>\n",
       "      <td>9.0</td>\n",
       "      <td>2.0</td>\n",
       "      <td>1935.0</td>\n",
       "      <td>4.0</td>\n",
       "      <td>10.0</td>\n",
       "      <td>3.0</td>\n",
       "      <td>...</td>\n",
       "      <td>1.401922e+13</td>\n",
       "      <td>16.0</td>\n",
       "      <td>64.0</td>\n",
       "      <td>256.0</td>\n",
       "      <td>100.0</td>\n",
       "      <td>1000.0</td>\n",
       "      <td>10000.0</td>\n",
       "      <td>9.0</td>\n",
       "      <td>27.0</td>\n",
       "      <td>81.0</td>\n",
       "    </tr>\n",
       "    <tr>\n",
       "      <th>30468</th>\n",
       "      <td>6970959</td>\n",
       "      <td>45</td>\n",
       "      <td>0.0</td>\n",
       "      <td>10.0</td>\n",
       "      <td>20.0</td>\n",
       "      <td>1.0</td>\n",
       "      <td>0.0</td>\n",
       "      <td>1.0</td>\n",
       "      <td>1.0</td>\n",
       "      <td>1.0</td>\n",
       "      <td>...</td>\n",
       "      <td>0.000000e+00</td>\n",
       "      <td>1.0</td>\n",
       "      <td>1.0</td>\n",
       "      <td>1.0</td>\n",
       "      <td>1.0</td>\n",
       "      <td>1.0</td>\n",
       "      <td>1.0</td>\n",
       "      <td>1.0</td>\n",
       "      <td>1.0</td>\n",
       "      <td>1.0</td>\n",
       "    </tr>\n",
       "    <tr>\n",
       "      <th>30469</th>\n",
       "      <td>13500000</td>\n",
       "      <td>64</td>\n",
       "      <td>32.0</td>\n",
       "      <td>5.0</td>\n",
       "      <td>15.0</td>\n",
       "      <td>1.0</td>\n",
       "      <td>2003.0</td>\n",
       "      <td>2.0</td>\n",
       "      <td>11.0</td>\n",
       "      <td>2.0</td>\n",
       "      <td>...</td>\n",
       "      <td>1.609622e+13</td>\n",
       "      <td>4.0</td>\n",
       "      <td>8.0</td>\n",
       "      <td>16.0</td>\n",
       "      <td>121.0</td>\n",
       "      <td>1331.0</td>\n",
       "      <td>14641.0</td>\n",
       "      <td>4.0</td>\n",
       "      <td>8.0</td>\n",
       "      <td>16.0</td>\n",
       "    </tr>\n",
       "    <tr>\n",
       "      <th>30470</th>\n",
       "      <td>5600000</td>\n",
       "      <td>43</td>\n",
       "      <td>28.0</td>\n",
       "      <td>1.0</td>\n",
       "      <td>9.0</td>\n",
       "      <td>1.0</td>\n",
       "      <td>1968.0</td>\n",
       "      <td>2.0</td>\n",
       "      <td>6.0</td>\n",
       "      <td>2.0</td>\n",
       "      <td>...</td>\n",
       "      <td>1.500031e+13</td>\n",
       "      <td>4.0</td>\n",
       "      <td>8.0</td>\n",
       "      <td>16.0</td>\n",
       "      <td>36.0</td>\n",
       "      <td>216.0</td>\n",
       "      <td>1296.0</td>\n",
       "      <td>4.0</td>\n",
       "      <td>8.0</td>\n",
       "      <td>16.0</td>\n",
       "    </tr>\n",
       "  </tbody>\n",
       "</table>\n",
       "<p>30471 rows × 37 columns</p>\n",
       "</div>"
      ],
      "text/plain": [
       "       price_doc  full_sq  life_sq  floor  max_floor  material  build_year  \\\n",
       "0        5850000       43     27.0    4.0        0.0       0.0         0.0   \n",
       "1        6000000       34     19.0    3.0        0.0       0.0         0.0   \n",
       "2        5700000       43     29.0    2.0        0.0       0.0         0.0   \n",
       "3       13100000       89     50.0    9.0        0.0       0.0         0.0   \n",
       "4       16331452       77     77.0    4.0        0.0       0.0         0.0   \n",
       "...          ...      ...      ...    ...        ...       ...         ...   \n",
       "30466    7400000       44     27.0    7.0        9.0       1.0      1975.0   \n",
       "30467   25000000       86     59.0    3.0        9.0       2.0      1935.0   \n",
       "30468    6970959       45      0.0   10.0       20.0       1.0         0.0   \n",
       "30469   13500000       64     32.0    5.0       15.0       1.0      2003.0   \n",
       "30470    5600000       43     28.0    1.0        9.0       1.0      1968.0   \n",
       "\n",
       "       num_room  kitch_sq  state  ...  build_year_4  num_room_2  num_room_3  \\\n",
       "0           0.0       0.0    0.0  ...  0.000000e+00         0.0         0.0   \n",
       "1           0.0       0.0    0.0  ...  0.000000e+00         0.0         0.0   \n",
       "2           0.0       0.0    0.0  ...  0.000000e+00         0.0         0.0   \n",
       "3           0.0       0.0    0.0  ...  0.000000e+00         0.0         0.0   \n",
       "4           0.0       0.0    0.0  ...  0.000000e+00         0.0         0.0   \n",
       "...         ...       ...    ...  ...           ...         ...         ...   \n",
       "30466       2.0       6.0    3.0  ...  1.521488e+13         4.0         8.0   \n",
       "30467       4.0      10.0    3.0  ...  1.401922e+13        16.0        64.0   \n",
       "30468       1.0       1.0    1.0  ...  0.000000e+00         1.0         1.0   \n",
       "30469       2.0      11.0    2.0  ...  1.609622e+13         4.0         8.0   \n",
       "30470       2.0       6.0    2.0  ...  1.500031e+13         4.0         8.0   \n",
       "\n",
       "       num_room_4  kitch_sq_2  kitch_sq_3  kitch_sq_4  state_2  state_3  \\\n",
       "0             0.0         0.0         0.0         0.0      0.0      0.0   \n",
       "1             0.0         0.0         0.0         0.0      0.0      0.0   \n",
       "2             0.0         0.0         0.0         0.0      0.0      0.0   \n",
       "3             0.0         0.0         0.0         0.0      0.0      0.0   \n",
       "4             0.0         0.0         0.0         0.0      0.0      0.0   \n",
       "...           ...         ...         ...         ...      ...      ...   \n",
       "30466        16.0        36.0       216.0      1296.0      9.0     27.0   \n",
       "30467       256.0       100.0      1000.0     10000.0      9.0     27.0   \n",
       "30468         1.0         1.0         1.0         1.0      1.0      1.0   \n",
       "30469        16.0       121.0      1331.0     14641.0      4.0      8.0   \n",
       "30470        16.0        36.0       216.0      1296.0      4.0      8.0   \n",
       "\n",
       "       state_4  \n",
       "0          0.0  \n",
       "1          0.0  \n",
       "2          0.0  \n",
       "3          0.0  \n",
       "4          0.0  \n",
       "...        ...  \n",
       "30466     81.0  \n",
       "30467     81.0  \n",
       "30468      1.0  \n",
       "30469     16.0  \n",
       "30470     16.0  \n",
       "\n",
       "[30471 rows x 37 columns]"
      ]
     },
     "execution_count": 14,
     "metadata": {},
     "output_type": "execute_result"
    }
   ],
   "source": [
    "df"
   ]
  },
  {
   "cell_type": "code",
   "execution_count": 15,
   "metadata": {},
   "outputs": [],
   "source": [
    "\n",
    "df_test = df.sample(n=1000, random_state=0)\n",
    "df_train = df.drop(index=df_test.index)\n",
    "\n",
    "df_test = df_test.reset_index(drop=True)\n",
    "df_train = df_train.reset_index(drop=True)"
   ]
  },
  {
   "cell_type": "code",
   "execution_count": 16,
   "metadata": {},
   "outputs": [],
   "source": [
    "X_train = df_train[df_train.columns[1:]]\n",
    "y_train = df_train['price_doc']\n",
    "\n",
    "X_test = df_test[df_test.columns[1:]]\n",
    "y_test = df_test['price_doc']"
   ]
  },
  {
   "cell_type": "code",
   "execution_count": 17,
   "metadata": {},
   "outputs": [],
   "source": [
    "min_max = MinMaxScaler()\n",
    "min_max.fit(X_train)\n",
    "X_train_min_max = min_max.transform(X_train)\n",
    "X_test_min_max = min_max.transform(X_test)\n",
    "\n",
    "standard = StandardScaler()\n",
    "standard.fit(X_train)\n",
    "X_train_standard = standard.transform(X_train)\n",
    "X_test_standard = standard.transform(X_test)"
   ]
  },
  {
   "cell_type": "code",
   "execution_count": 18,
   "metadata": {},
   "outputs": [],
   "source": [
    "linear_regression = lm.LinearRegression().fit(X=X_train_min_max, y=y_train)"
   ]
  },
  {
   "cell_type": "code",
   "execution_count": 19,
   "metadata": {},
   "outputs": [
    {
     "data": {
      "text/plain": [
       "(np.float64(0.5320992241016059), np.float64(0.6420427413553875))"
      ]
     },
     "execution_count": 19,
     "metadata": {},
     "output_type": "execute_result"
    }
   ],
   "source": [
    "calculate_metric(X_train=X_train_min_max, X_test=X_test_min_max, y_train=y_train, y_test=y_test, model=linear_regression)"
   ]
  },
  {
   "cell_type": "code",
   "execution_count": 20,
   "metadata": {},
   "outputs": [],
   "source": [
    "ridge = lm.Ridge().fit(X=X_train_min_max, y=y_train)"
   ]
  },
  {
   "cell_type": "code",
   "execution_count": 21,
   "metadata": {},
   "outputs": [
    {
     "data": {
      "text/plain": [
       "array([ 4.53747223e+08,  2.01498451e+08,  3.01262888e+07, -1.07526692e+07,\n",
       "        7.22479477e+06,  3.97608801e+10, -3.91256172e+07,  5.30913892e+07,\n",
       "       -8.53261888e+07,  8.97022013e+09, -1.14086870e+11,  1.04668618e+11,\n",
       "       -9.61940688e+09,  8.16782423e+10, -7.22620446e+10, -2.24679828e+08,\n",
       "        6.15662926e+08, -4.16197543e+08,  8.72233621e+07, -1.68387209e+08,\n",
       "        9.42678314e+07,  1.21497670e+07, -4.29250321e+07,  2.47650672e+07,\n",
       "       -3.37560774e+14,  1.68595830e+14,  1.68767235e+14,  2.39975146e+08,\n",
       "       -1.89619783e+08, -1.97025568e+07, -3.36176982e+08,  5.86057797e+08,\n",
       "       -3.05875318e+08,  3.54644389e+09, -4.57814453e+10,  2.00273671e+11])"
      ]
     },
     "execution_count": 21,
     "metadata": {},
     "output_type": "execute_result"
    }
   ],
   "source": [
    "linear_regression.coef_"
   ]
  },
  {
   "cell_type": "code",
   "execution_count": 22,
   "metadata": {},
   "outputs": [
    {
     "data": {
      "text/plain": [
       "(np.float64(0.5543492717965641), np.float64(0.5544899453593611))"
      ]
     },
     "execution_count": 22,
     "metadata": {},
     "output_type": "execute_result"
    }
   ],
   "source": [
    "calculate_metric(X_train=X_train_min_max, X_test=X_test_min_max, y_train=y_train, y_test=y_test, model=ridge)"
   ]
  },
  {
   "cell_type": "code",
   "execution_count": 23,
   "metadata": {},
   "outputs": [
    {
     "name": "stderr",
     "output_type": "stream",
     "text": [
      "C:\\Users\\Robot\\AppData\\Local\\Packages\\PythonSoftwareFoundation.Python.3.11_qbz5n2kfra8p0\\LocalCache\\local-packages\\Python311\\site-packages\\sklearn\\linear_model\\_coordinate_descent.py:695: ConvergenceWarning: Objective did not converge. You might want to increase the number of iterations, check the scale of the features or consider increasing regularisation. Duality gap: 1.962e+17, tolerance: 6.758e+13\n",
      "  model = cd_fast.enet_coordinate_descent(\n"
     ]
    }
   ],
   "source": [
    "lasso = lm.Lasso().fit(X=X_train_min_max, y=y_train)"
   ]
  },
  {
   "cell_type": "code",
   "execution_count": 24,
   "metadata": {},
   "outputs": [
    {
     "data": {
      "text/plain": [
       "(np.float64(0.5319535894961515), np.float64(0.6350687703682347))"
      ]
     },
     "execution_count": 24,
     "metadata": {},
     "output_type": "execute_result"
    }
   ],
   "source": [
    "calculate_metric(X_train=X_train_min_max, X_test=X_test_min_max, y_train=y_train, y_test=y_test, model=lasso)"
   ]
  },
  {
   "cell_type": "code",
   "execution_count": 25,
   "metadata": {},
   "outputs": [
    {
     "name": "stdout",
     "output_type": "stream",
     "text": [
      "Признаки, которые можно удалить: ['build_year', 'life_sq_3', 'life_sq_4', 'num_room_4']\n"
     ]
    },
    {
     "name": "stderr",
     "output_type": "stream",
     "text": [
      "C:\\Users\\Robot\\AppData\\Local\\Packages\\PythonSoftwareFoundation.Python.3.11_qbz5n2kfra8p0\\LocalCache\\local-packages\\Python311\\site-packages\\sklearn\\linear_model\\_coordinate_descent.py:695: ConvergenceWarning: Objective did not converge. You might want to increase the number of iterations, check the scale of the features or consider increasing regularisation. Duality gap: 1.730e+17, tolerance: 6.758e+13\n",
      "  model = cd_fast.enet_coordinate_descent(\n"
     ]
    }
   ],
   "source": [
    "\n",
    "lasso = lm.Lasso(alpha=10).fit(X=X_train_min_max, y=y_train)\n",
    "\n",
    "coefficients = pd.Series(lasso.coef_, index=X_train.columns)\n",
    "\n",
    "# Выводим признаки, у которых коэффициент = 0\n",
    "features_to_remove = coefficients[coefficients == 0].index.tolist()\n",
    "print(\"Признаки, которые можно удалить:\", features_to_remove)\n"
   ]
  },
  {
   "cell_type": "code",
   "execution_count": null,
   "metadata": {},
   "outputs": [],
   "source": []
  }
 ],
 "metadata": {
  "kernelspec": {
   "display_name": "Python 3",
   "language": "python",
   "name": "python3"
  },
  "language_info": {
   "codemirror_mode": {
    "name": "ipython",
    "version": 3
   },
   "file_extension": ".py",
   "mimetype": "text/x-python",
   "name": "python",
   "nbconvert_exporter": "python",
   "pygments_lexer": "ipython3",
   "version": "3.11.9"
  }
 },
 "nbformat": 4,
 "nbformat_minor": 4
}
